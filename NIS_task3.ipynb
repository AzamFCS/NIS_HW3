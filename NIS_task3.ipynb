{
 "cells": [
  {
   "cell_type": "markdown",
   "metadata": {},
   "source": [
    "В файле **WIPO-GII_2022.xlsx** содержаться данные по странам о показателях, используемых для расчета Global Innovation Index за 2022 год. \n",
    "\n",
    "### В файле следующие переменные:\t\t\t\t\t\t\t\t\t\t\t\t\t\t\t\t\t\t\t\t\t\t\t\t\t\t\t\t\t\t\t\t\n",
    "- Country\n",
    "- Business environment\n",
    "- Business sophistication index\n",
    "- Citable documents H-index\n",
    "- Creative goods and services\n",
    "- Creative goods exports, % total trade\n",
    "- Creative outputs index\n",
    "- Cultural and creative services exports, % total trade\n",
    "- Domestic market scale, bn PPP\n",
    "- Ecological sustainability\n",
    "- Expenditure on education, % GDP\n",
    "- Firms offering formal training, %\n",
    "- General infrastructure\n",
    "- Government effectiveness\n",
    "- Government's online service\n",
    "- Graduates in science and engineering, %\n",
    "- Gross expenditure on R&D, % GDP\n",
    "- High-tech exports, % total trade\n",
    "- High-tech imports, % total trade\n",
    "- High-tech manufacturing, %\n",
    "- Human capital and research index\n",
    "- Information and Communications Technology access\n",
    "- Information and Communications Technology services exports, % total trade\n",
    "- Information and Communications Technology services imports, % total trade\n",
    "- Information and Communications Technology use\n",
    "- Infrastructure index\n",
    "- Intangible assets\n",
    "- Joint venture/strategic alliance deals/bn PPP GDP\n",
    "- Knowledge absorption\n",
    "- Knowledge and technology outputs index\n",
    "- Knowledge workers\n",
    "- Knowledge-intensive employment, %\n",
    "- Logistics performance\n",
    "- Market sophistication index\n",
    "- Mobile app creation/bn PPP GDP\n",
    "- Online creativity\n",
    "- PISA scales in reading, maths and science\n",
    "- Political and operational stability\n",
    "- Political environment\n",
    "- Pupil-teacher ratio, secondary\n",
    "- QS university ranking average score of top 3 universities\n",
    "- Research and development (R&D)\n",
    "- Scientific and technical articles/bn PPP GDP\n",
    "- Software spending, % GDP\n",
    "- Tertiary education\n",
    "- Tertiary enrolment, % gross\n",
    "- University-industry R&D collaboration\n",
    "- Region\n",
    "- Region2\n",
    "- Euro area\n",
    "- European Union\n",
    "- OECD members\n",
    "- Least developed countries\n",
    "- Income\n",
    "- High income"
   ]
  },
  {
   "cell_type": "markdown",
   "metadata": {},
   "source": [
    "Выполните, пожалуйста, задания."
   ]
  },
  {
   "cell_type": "markdown",
   "metadata": {},
   "source": [
    "1. Выберите не менее 5 интересующих Вас метрических переменных для последующего проведения кластерного анализа данных. Приведите аргументы в пользу возможности их использования для кластеризации."
   ]
  },
  {
   "cell_type": "code",
   "execution_count": 2,
   "metadata": {},
   "outputs": [
    {
     "name": "stdout",
     "output_type": "stream",
     "text": [
      "Requirement already satisfied: yellowbrick in c:\\users\\admin\\anaconda3\\lib\\site-packages (1.5)\n",
      "Requirement already satisfied: matplotlib!=3.0.0,>=2.0.2 in c:\\users\\admin\\anaconda3\\lib\\site-packages (from yellowbrick) (3.10.0)\n",
      "Requirement already satisfied: scipy>=1.0.0 in c:\\users\\admin\\anaconda3\\lib\\site-packages (from yellowbrick) (1.15.3)\n",
      "Requirement already satisfied: scikit-learn>=1.0.0 in c:\\users\\admin\\anaconda3\\lib\\site-packages (from yellowbrick) (1.6.1)\n",
      "Requirement already satisfied: numpy>=1.16.0 in c:\\users\\admin\\anaconda3\\lib\\site-packages (from yellowbrick) (2.1.3)\n",
      "Requirement already satisfied: cycler>=0.10.0 in c:\\users\\admin\\anaconda3\\lib\\site-packages (from yellowbrick) (0.11.0)\n",
      "Requirement already satisfied: contourpy>=1.0.1 in c:\\users\\admin\\anaconda3\\lib\\site-packages (from matplotlib!=3.0.0,>=2.0.2->yellowbrick) (1.3.1)\n",
      "Requirement already satisfied: fonttools>=4.22.0 in c:\\users\\admin\\anaconda3\\lib\\site-packages (from matplotlib!=3.0.0,>=2.0.2->yellowbrick) (4.55.3)\n",
      "Requirement already satisfied: kiwisolver>=1.3.1 in c:\\users\\admin\\anaconda3\\lib\\site-packages (from matplotlib!=3.0.0,>=2.0.2->yellowbrick) (1.4.8)\n",
      "Requirement already satisfied: packaging>=20.0 in c:\\users\\admin\\anaconda3\\lib\\site-packages (from matplotlib!=3.0.0,>=2.0.2->yellowbrick) (24.2)\n",
      "Requirement already satisfied: pillow>=8 in c:\\users\\admin\\anaconda3\\lib\\site-packages (from matplotlib!=3.0.0,>=2.0.2->yellowbrick) (11.1.0)\n",
      "Requirement already satisfied: pyparsing>=2.3.1 in c:\\users\\admin\\anaconda3\\lib\\site-packages (from matplotlib!=3.0.0,>=2.0.2->yellowbrick) (3.2.0)\n",
      "Requirement already satisfied: python-dateutil>=2.7 in c:\\users\\admin\\anaconda3\\lib\\site-packages (from matplotlib!=3.0.0,>=2.0.2->yellowbrick) (2.9.0.post0)\n",
      "Requirement already satisfied: six>=1.5 in c:\\users\\admin\\anaconda3\\lib\\site-packages (from python-dateutil>=2.7->matplotlib!=3.0.0,>=2.0.2->yellowbrick) (1.17.0)\n",
      "Requirement already satisfied: joblib>=1.2.0 in c:\\users\\admin\\anaconda3\\lib\\site-packages (from scikit-learn>=1.0.0->yellowbrick) (1.4.2)\n",
      "Requirement already satisfied: threadpoolctl>=3.1.0 in c:\\users\\admin\\anaconda3\\lib\\site-packages (from scikit-learn>=1.0.0->yellowbrick) (3.5.0)\n"
     ]
    }
   ],
   "source": [
    "!pip install yellowbrick\n",
    "\n",
    "import pandas as pd\n",
    "%matplotlib inline\n",
    "import numpy as np\n",
    "import seaborn as sns\n",
    "import matplotlib.pyplot as plt\n",
    "from sklearn.cluster import KMeans, DBSCAN\n",
    "import warnings\n",
    "warnings.filterwarnings(\"ignore\")"
   ]
  },
  {
   "cell_type": "code",
   "execution_count": 3,
   "metadata": {},
   "outputs": [
    {
     "data": {
      "text/html": [
       "<div>\n",
       "<style scoped>\n",
       "    .dataframe tbody tr th:only-of-type {\n",
       "        vertical-align: middle;\n",
       "    }\n",
       "\n",
       "    .dataframe tbody tr th {\n",
       "        vertical-align: top;\n",
       "    }\n",
       "\n",
       "    .dataframe thead th {\n",
       "        text-align: right;\n",
       "    }\n",
       "</style>\n",
       "<table border=\"1\" class=\"dataframe\">\n",
       "  <thead>\n",
       "    <tr style=\"text-align: right;\">\n",
       "      <th></th>\n",
       "      <th>Political and operational stability_2022</th>\n",
       "      <th>Firms offering formal training, %_2022</th>\n",
       "      <th>High-tech manufacturing, %_2022</th>\n",
       "      <th>Mobile app creation/bn PPP$ GDP_2022</th>\n",
       "      <th>Tertiary enrolment, % gross_2022</th>\n",
       "    </tr>\n",
       "  </thead>\n",
       "  <tbody>\n",
       "    <tr>\n",
       "      <th>Political and operational stability_2022</th>\n",
       "      <td>1.000000</td>\n",
       "      <td>0.017641</td>\n",
       "      <td>0.459803</td>\n",
       "      <td>0.355427</td>\n",
       "      <td>0.499535</td>\n",
       "    </tr>\n",
       "    <tr>\n",
       "      <th>Firms offering formal training, %_2022</th>\n",
       "      <td>0.017641</td>\n",
       "      <td>1.000000</td>\n",
       "      <td>0.016697</td>\n",
       "      <td>0.060930</td>\n",
       "      <td>0.049449</td>\n",
       "    </tr>\n",
       "    <tr>\n",
       "      <th>High-tech manufacturing, %_2022</th>\n",
       "      <td>0.459803</td>\n",
       "      <td>0.016697</td>\n",
       "      <td>1.000000</td>\n",
       "      <td>0.354484</td>\n",
       "      <td>0.519702</td>\n",
       "    </tr>\n",
       "    <tr>\n",
       "      <th>Mobile app creation/bn PPP$ GDP_2022</th>\n",
       "      <td>0.355427</td>\n",
       "      <td>0.060930</td>\n",
       "      <td>0.354484</td>\n",
       "      <td>1.000000</td>\n",
       "      <td>0.463206</td>\n",
       "    </tr>\n",
       "    <tr>\n",
       "      <th>Tertiary enrolment, % gross_2022</th>\n",
       "      <td>0.499535</td>\n",
       "      <td>0.049449</td>\n",
       "      <td>0.519702</td>\n",
       "      <td>0.463206</td>\n",
       "      <td>1.000000</td>\n",
       "    </tr>\n",
       "  </tbody>\n",
       "</table>\n",
       "</div>"
      ],
      "text/plain": [
       "                                          Political and operational stability_2022  \\\n",
       "Political and operational stability_2022                                  1.000000   \n",
       "Firms offering formal training, %_2022                                    0.017641   \n",
       "High-tech manufacturing, %_2022                                           0.459803   \n",
       "Mobile app creation/bn PPP$ GDP_2022                                      0.355427   \n",
       "Tertiary enrolment, % gross_2022                                          0.499535   \n",
       "\n",
       "                                          Firms offering formal training, %_2022  \\\n",
       "Political and operational stability_2022                                0.017641   \n",
       "Firms offering formal training, %_2022                                  1.000000   \n",
       "High-tech manufacturing, %_2022                                         0.016697   \n",
       "Mobile app creation/bn PPP$ GDP_2022                                    0.060930   \n",
       "Tertiary enrolment, % gross_2022                                        0.049449   \n",
       "\n",
       "                                          High-tech manufacturing, %_2022  \\\n",
       "Political and operational stability_2022                         0.459803   \n",
       "Firms offering formal training, %_2022                           0.016697   \n",
       "High-tech manufacturing, %_2022                                  1.000000   \n",
       "Mobile app creation/bn PPP$ GDP_2022                             0.354484   \n",
       "Tertiary enrolment, % gross_2022                                 0.519702   \n",
       "\n",
       "                                          Mobile app creation/bn PPP$ GDP_2022  \\\n",
       "Political and operational stability_2022                              0.355427   \n",
       "Firms offering formal training, %_2022                                0.060930   \n",
       "High-tech manufacturing, %_2022                                       0.354484   \n",
       "Mobile app creation/bn PPP$ GDP_2022                                  1.000000   \n",
       "Tertiary enrolment, % gross_2022                                      0.463206   \n",
       "\n",
       "                                          Tertiary enrolment, % gross_2022  \n",
       "Political and operational stability_2022                          0.499535  \n",
       "Firms offering formal training, %_2022                            0.049449  \n",
       "High-tech manufacturing, %_2022                                   0.519702  \n",
       "Mobile app creation/bn PPP$ GDP_2022                              0.463206  \n",
       "Tertiary enrolment, % gross_2022                                  1.000000  "
      ]
     },
     "execution_count": 3,
     "metadata": {},
     "output_type": "execute_result"
    }
   ],
   "source": [
    "df = pd.read_excel(\"WIPO-GII_2022.xlsx\")\n",
    "metric_features = df.select_dtypes(exclude=[np.object_])\n",
    "taken_metrics = metric_features[['Political and operational stability_2022','Firms offering formal training, %_2022','High-tech manufacturing, %_2022','Mobile app creation/bn PPP$ GDP_2022', 'Tertiary enrolment, % gross_2022']]\n",
    "metric_features.columns.to_frame()\n",
    "taken_metrics.corr()\n"
   ]
  },
  {
   "cell_type": "markdown",
   "metadata": {},
   "source": [
    "## Были выбраны следующие метрические признаки:\n",
    "1. Political and operational stability_2022\n",
    "2. 'Euro area',\n",
    "3. 'High-tech manufacturing, %_2022'\n",
    "4. 'Mobile app creation/bn PPP$ GDP_2022'\n",
    "5. 'Tertiary enrolment, % gross_2022'\n",
    "\n",
    "#### Выбраны они были потому что описывают довольно разные сферы государства (политические, экономические и тп) и не особо коррелируют (см. выше)"
   ]
  },
  {
   "cell_type": "markdown",
   "metadata": {},
   "source": [
    "2. Выберите подходящий алгоритм кластеризации и обоснуйте свой выбор. Определите число кластеров, объясните своё решение. Опишите получившиеся кластеры с помощью описательной статистки. Нужно не просто рассчитать статистики в таблицах, но детально описать полученные результаты. Дайте названия кластерам и обоснуйте их."
   ]
  },
  {
   "cell_type": "markdown",
   "metadata": {},
   "source": [
    "Проведем небольшую предобработку данных, так как данные разбиты по разным шкалам, в том числе процентным"
   ]
  },
  {
   "cell_type": "code",
   "execution_count": 4,
   "metadata": {},
   "outputs": [],
   "source": [
    "from sklearn.preprocessing import StandardScaler #ботал на ИАД\n",
    "from sklearn.impute import SimpleImputer\n",
    "imputer = SimpleImputer(strategy='mean')  # заполним NaN средним значением. P.S нанов там 28, не хочется терять столько данных, поэтому добавим чуть чуть \"синтетики\"\n",
    "taken_metrics_imputed = imputer.fit_transform(taken_metrics)\n",
    "\n",
    "\n",
    "scaler = StandardScaler()\n",
    "taken_metrics_scaled = scaler.fit_transform(taken_metrics_imputed)\n"
   ]
  },
  {
   "cell_type": "markdown",
   "metadata": {},
   "source": [
    "Будем использовать иерархический алгоритм кластеризации, так как выборка не очень большая + хочется посмотреть подробнее на то, какие страны друг другу ближе (не хочется смотреть на 5-мерное пространство:))"
   ]
  },
  {
   "cell_type": "code",
   "execution_count": 5,
   "metadata": {},
   "outputs": [
    {
     "data": {
      "image/png": "[encoded data removed]",
      "text/plain": [
       "<Figure size 1500x500 with 1 Axes>"
      ]
     },
     "metadata": {},
     "output_type": "display_data"
    }
   ],
   "source": [
    "from scipy.cluster.hierarchy import dendrogram, linkage, fcluster\n",
    "\n",
    "plt.figure(figsize=(15, 5))\n",
    "dn = dendrogram(linkage(taken_metrics_scaled, 'ward'))\n",
    "plt.show()"
   ]
  },
  {
   "cell_type": "markdown",
   "metadata": {},
   "source": [
    "Всего имеем 2 кластера. Метод Калински-Харабаша также указывает на два кластера"
   ]
  },
  {
   "cell_type": "code",
   "execution_count": 6,
   "metadata": {},
   "outputs": [
    {
     "name": "stdout",
     "output_type": "stream",
     "text": [
      "Число кластеров: 2, индекс 49.14980797622116\n",
      "Число кластеров: 3, индекс 43.89706109835155\n",
      "Число кластеров: 4, индекс 42.56536935198151\n",
      "Число кластеров: 5, индекс 39.9488456969609\n",
      "Число кластеров: 6, индекс 37.32696716204939\n",
      "Число кластеров: 7, индекс 35.358341141538\n",
      "Число кластеров: 8, индекс 33.951174116386184\n",
      "Число кластеров: 9, индекс 33.19802332856886\n"
     ]
    }
   ],
   "source": [
    "from sklearn.metrics import calinski_harabasz_score\n",
    "for k in range (2, 10):\n",
    "    Z = linkage(taken_metrics_scaled, method='ward', metric='euclidean')\n",
    "    labels = fcluster(Z, t=k, criterion='maxclust')\n",
    "    print('Число кластеров: {}, индекс {}'.format(k, calinski_harabasz_score(taken_metrics_scaled, labels)))"
   ]
  },
  {
   "cell_type": "markdown",
   "metadata": {},
   "source": [
    "Выбираем два кластера"
   ]
  },
  {
   "cell_type": "code",
   "execution_count": 7,
   "metadata": {},
   "outputs": [
    {
     "data": {
      "text/html": [
       "<div>\n",
       "<style scoped>\n",
       "    .dataframe tbody tr th:only-of-type {\n",
       "        vertical-align: middle;\n",
       "    }\n",
       "\n",
       "    .dataframe tbody tr th {\n",
       "        vertical-align: top;\n",
       "    }\n",
       "\n",
       "    .dataframe thead th {\n",
       "        text-align: right;\n",
       "    }\n",
       "</style>\n",
       "<table border=\"1\" class=\"dataframe\">\n",
       "  <thead>\n",
       "    <tr style=\"text-align: right;\">\n",
       "      <th></th>\n",
       "      <th>Political and operational stability_2022</th>\n",
       "      <th>Firms offering formal training, %_2022</th>\n",
       "      <th>High-tech manufacturing, %_2022</th>\n",
       "      <th>Mobile app creation/bn PPP$ GDP_2022</th>\n",
       "      <th>Tertiary enrolment, % gross_2022</th>\n",
       "      <th>cluster_labels</th>\n",
       "    </tr>\n",
       "  </thead>\n",
       "  <tbody>\n",
       "    <tr>\n",
       "      <th>0</th>\n",
       "      <td>-0.084842</td>\n",
       "      <td>0.441912</td>\n",
       "      <td>-1.166849</td>\n",
       "      <td>-0.631770</td>\n",
       "      <td>-1.245238</td>\n",
       "      <td>1</td>\n",
       "    </tr>\n",
       "    <tr>\n",
       "      <th>1</th>\n",
       "      <td>0.966216</td>\n",
       "      <td>0.879993</td>\n",
       "      <td>2.112609</td>\n",
       "      <td>0.411239</td>\n",
       "      <td>0.611957</td>\n",
       "      <td>2</td>\n",
       "    </tr>\n",
       "    <tr>\n",
       "      <th>2</th>\n",
       "      <td>-0.613996</td>\n",
       "      <td>-1.059509</td>\n",
       "      <td>0.027168</td>\n",
       "      <td>-0.584717</td>\n",
       "      <td>-0.278149</td>\n",
       "      <td>2</td>\n",
       "    </tr>\n",
       "    <tr>\n",
       "      <th>3</th>\n",
       "      <td>0.966216</td>\n",
       "      <td>-1.167038</td>\n",
       "      <td>0.096682</td>\n",
       "      <td>2.340412</td>\n",
       "      <td>1.237437</td>\n",
       "      <td>2</td>\n",
       "    </tr>\n",
       "    <tr>\n",
       "      <th>4</th>\n",
       "      <td>-1.665054</td>\n",
       "      <td>-1.167038</td>\n",
       "      <td>0.902235</td>\n",
       "      <td>-0.592559</td>\n",
       "      <td>0.366577</td>\n",
       "      <td>2</td>\n",
       "    </tr>\n",
       "    <tr>\n",
       "      <th>...</th>\n",
       "      <td>...</td>\n",
       "      <td>...</td>\n",
       "      <td>...</td>\n",
       "      <td>...</td>\n",
       "      <td>...</td>\n",
       "      <td>...</td>\n",
       "    </tr>\n",
       "    <tr>\n",
       "      <th>134</th>\n",
       "      <td>-0.353044</td>\n",
       "      <td>1.035312</td>\n",
       "      <td>-1.166849</td>\n",
       "      <td>-0.623928</td>\n",
       "      <td>-1.437693</td>\n",
       "      <td>1</td>\n",
       "    </tr>\n",
       "    <tr>\n",
       "      <th>135</th>\n",
       "      <td>-0.483520</td>\n",
       "      <td>2.094671</td>\n",
       "      <td>-0.533039</td>\n",
       "      <td>-0.576875</td>\n",
       "      <td>0.780356</td>\n",
       "      <td>2</td>\n",
       "    </tr>\n",
       "    <tr>\n",
       "      <th>136</th>\n",
       "      <td>0.176110</td>\n",
       "      <td>-1.167038</td>\n",
       "      <td>-1.166849</td>\n",
       "      <td>-0.631770</td>\n",
       "      <td>-1.437693</td>\n",
       "      <td>1</td>\n",
       "    </tr>\n",
       "    <tr>\n",
       "      <th>137</th>\n",
       "      <td>0.705263</td>\n",
       "      <td>-1.167038</td>\n",
       "      <td>1.233452</td>\n",
       "      <td>0.638662</td>\n",
       "      <td>1.352910</td>\n",
       "      <td>2</td>\n",
       "    </tr>\n",
       "    <tr>\n",
       "      <th>138</th>\n",
       "      <td>1.234417</td>\n",
       "      <td>1.409672</td>\n",
       "      <td>-0.402188</td>\n",
       "      <td>-0.137713</td>\n",
       "      <td>0.597523</td>\n",
       "      <td>2</td>\n",
       "    </tr>\n",
       "  </tbody>\n",
       "</table>\n",
       "<p>139 rows × 6 columns</p>\n",
       "</div>"
      ],
      "text/plain": [
       "     Political and operational stability_2022  \\\n",
       "0                                   -0.084842   \n",
       "1                                    0.966216   \n",
       "2                                   -0.613996   \n",
       "3                                    0.966216   \n",
       "4                                   -1.665054   \n",
       "..                                        ...   \n",
       "134                                 -0.353044   \n",
       "135                                 -0.483520   \n",
       "136                                  0.176110   \n",
       "137                                  0.705263   \n",
       "138                                  1.234417   \n",
       "\n",
       "     Firms offering formal training, %_2022  High-tech manufacturing, %_2022  \\\n",
       "0                                  0.441912                        -1.166849   \n",
       "1                                  0.879993                         2.112609   \n",
       "2                                 -1.059509                         0.027168   \n",
       "3                                 -1.167038                         0.096682   \n",
       "4                                 -1.167038                         0.902235   \n",
       "..                                      ...                              ...   \n",
       "134                                1.035312                        -1.166849   \n",
       "135                                2.094671                        -0.533039   \n",
       "136                               -1.167038                        -1.166849   \n",
       "137                               -1.167038                         1.233452   \n",
       "138                                1.409672                        -0.402188   \n",
       "\n",
       "     Mobile app creation/bn PPP$ GDP_2022  Tertiary enrolment, % gross_2022  \\\n",
       "0                               -0.631770                         -1.245238   \n",
       "1                                0.411239                          0.611957   \n",
       "2                               -0.584717                         -0.278149   \n",
       "3                                2.340412                          1.237437   \n",
       "4                               -0.592559                          0.366577   \n",
       "..                                    ...                               ...   \n",
       "134                             -0.623928                         -1.437693   \n",
       "135                             -0.576875                          0.780356   \n",
       "136                             -0.631770                         -1.437693   \n",
       "137                              0.638662                          1.352910   \n",
       "138                             -0.137713                          0.597523   \n",
       "\n",
       "     cluster_labels  \n",
       "0                 1  \n",
       "1                 2  \n",
       "2                 2  \n",
       "3                 2  \n",
       "4                 2  \n",
       "..              ...  \n",
       "134               1  \n",
       "135               2  \n",
       "136               1  \n",
       "137               2  \n",
       "138               2  \n",
       "\n",
       "[139 rows x 6 columns]"
      ]
     },
     "execution_count": 7,
     "metadata": {},
     "output_type": "execute_result"
    }
   ],
   "source": [
    "Z = linkage(taken_metrics_scaled, method='ward', metric='euclidean') \n",
    "labels = fcluster(Z, t=2, criterion='maxclust') \n",
    "taken_metrics_scaled = pd.DataFrame(taken_metrics_scaled, \n",
    "                                    index=taken_metrics.index, \n",
    "                                    columns=taken_metrics.columns) \n",
    "taken_metrics_scaled['cluster_labels'] = labels\n",
    "taken_metrics_scaled\n"
   ]
  },
  {
   "cell_type": "code",
   "execution_count": 8,
   "metadata": {},
   "outputs": [
    {
     "data": {
      "text/html": [
       "<div>\n",
       "<style scoped>\n",
       "    .dataframe tbody tr th:only-of-type {\n",
       "        vertical-align: middle;\n",
       "    }\n",
       "\n",
       "    .dataframe tbody tr th {\n",
       "        vertical-align: top;\n",
       "    }\n",
       "\n",
       "    .dataframe thead th {\n",
       "        text-align: right;\n",
       "    }\n",
       "</style>\n",
       "<table border=\"1\" class=\"dataframe\">\n",
       "  <thead>\n",
       "    <tr style=\"text-align: right;\">\n",
       "      <th></th>\n",
       "      <th>Political and operational stability_2022</th>\n",
       "      <th>Firms offering formal training, %_2022</th>\n",
       "      <th>High-tech manufacturing, %_2022</th>\n",
       "      <th>Mobile app creation/bn PPP$ GDP_2022</th>\n",
       "      <th>Tertiary enrolment, % gross_2022</th>\n",
       "    </tr>\n",
       "    <tr>\n",
       "      <th>cluster_labels</th>\n",
       "      <th></th>\n",
       "      <th></th>\n",
       "      <th></th>\n",
       "      <th></th>\n",
       "      <th></th>\n",
       "    </tr>\n",
       "  </thead>\n",
       "  <tbody>\n",
       "    <tr>\n",
       "      <th>1</th>\n",
       "      <td>-0.813069</td>\n",
       "      <td>0.025881</td>\n",
       "      <td>-0.965287</td>\n",
       "      <td>-0.573814</td>\n",
       "      <td>-1.110284</td>\n",
       "    </tr>\n",
       "    <tr>\n",
       "      <th>2</th>\n",
       "      <td>0.340162</td>\n",
       "      <td>-0.010828</td>\n",
       "      <td>0.403844</td>\n",
       "      <td>0.240065</td>\n",
       "      <td>0.464507</td>\n",
       "    </tr>\n",
       "  </tbody>\n",
       "</table>\n",
       "</div>"
      ],
      "text/plain": [
       "                Political and operational stability_2022  \\\n",
       "cluster_labels                                             \n",
       "1                                              -0.813069   \n",
       "2                                               0.340162   \n",
       "\n",
       "                Firms offering formal training, %_2022  \\\n",
       "cluster_labels                                           \n",
       "1                                             0.025881   \n",
       "2                                            -0.010828   \n",
       "\n",
       "                High-tech manufacturing, %_2022  \\\n",
       "cluster_labels                                    \n",
       "1                                     -0.965287   \n",
       "2                                      0.403844   \n",
       "\n",
       "                Mobile app creation/bn PPP$ GDP_2022  \\\n",
       "cluster_labels                                         \n",
       "1                                          -0.573814   \n",
       "2                                           0.240065   \n",
       "\n",
       "                Tertiary enrolment, % gross_2022  \n",
       "cluster_labels                                    \n",
       "1                                      -1.110284  \n",
       "2                                       0.464507  "
      ]
     },
     "execution_count": 8,
     "metadata": {},
     "output_type": "execute_result"
    }
   ],
   "source": [
    "taken_metrics_scaled.groupby('cluster_labels').mean()"
   ]
  },
  {
   "cell_type": "code",
   "execution_count": 9,
   "metadata": {},
   "outputs": [
    {
     "data": {
      "text/html": [
       "<div>\n",
       "<style scoped>\n",
       "    .dataframe tbody tr th:only-of-type {\n",
       "        vertical-align: middle;\n",
       "    }\n",
       "\n",
       "    .dataframe tbody tr th {\n",
       "        vertical-align: top;\n",
       "    }\n",
       "\n",
       "    .dataframe thead th {\n",
       "        text-align: right;\n",
       "    }\n",
       "</style>\n",
       "<table border=\"1\" class=\"dataframe\">\n",
       "  <thead>\n",
       "    <tr style=\"text-align: right;\">\n",
       "      <th></th>\n",
       "      <th>0</th>\n",
       "    </tr>\n",
       "  </thead>\n",
       "  <tbody>\n",
       "    <tr>\n",
       "      <th>Political and operational stability_2022</th>\n",
       "      <td>2.555909e-17</td>\n",
       "    </tr>\n",
       "    <tr>\n",
       "      <th>Firms offering formal training, %_2022</th>\n",
       "      <td>8.945682e-17</td>\n",
       "    </tr>\n",
       "    <tr>\n",
       "      <th>High-tech manufacturing, %_2022</th>\n",
       "      <td>2.555909e-17</td>\n",
       "    </tr>\n",
       "    <tr>\n",
       "      <th>Mobile app creation/bn PPP$ GDP_2022</th>\n",
       "      <td>-6.389773e-17</td>\n",
       "    </tr>\n",
       "    <tr>\n",
       "      <th>Tertiary enrolment, % gross_2022</th>\n",
       "      <td>-5.111818e-17</td>\n",
       "    </tr>\n",
       "  </tbody>\n",
       "</table>\n",
       "</div>"
      ],
      "text/plain": [
       "                                                     0\n",
       "Political and operational stability_2022  2.555909e-17\n",
       "Firms offering formal training, %_2022    8.945682e-17\n",
       "High-tech manufacturing, %_2022           2.555909e-17\n",
       "Mobile app creation/bn PPP$ GDP_2022     -6.389773e-17\n",
       "Tertiary enrolment, % gross_2022         -5.111818e-17"
      ]
     },
     "execution_count": 9,
     "metadata": {},
     "output_type": "execute_result"
    }
   ],
   "source": [
    "taken_metrics_scaled[['Political and operational stability_2022', 'Firms offering formal training, %_2022','High-tech manufacturing, %_2022','Mobile app creation/bn PPP$ GDP_2022','Tertiary enrolment, % gross_2022']].mean().to_frame()\n"
   ]
  },
  {
   "cell_type": "markdown",
   "metadata": {},
   "source": [
    "Довольно таки маленькие средние (ну это норм, так как сработал стандарт скейлер). Опишем кластеры:\n",
    "- Кластер 1: Грубо говоря, страна третьего мира\n",
    "- Кластер 2: Более развитая страна, где практически все показатели, кроме доли компаний, которые предлагают формальный тренинг"
   ]
  },
  {
   "cell_type": "markdown",
   "metadata": {},
   "source": [
    "3. Проведите апостериорный анализ данных на основе категориальных переменных датасета. Например, рассмотрите как распределены страны разных регионов по кластерам или в какие кластеры в основном попали страны-члены ОЭСР?"
   ]
  },
  {
   "cell_type": "code",
   "execution_count": 110,
   "metadata": {},
   "outputs": [
    {
     "data": {
      "text/html": [
       "<div>\n",
       "<style scoped>\n",
       "    .dataframe tbody tr th:only-of-type {\n",
       "        vertical-align: middle;\n",
       "    }\n",
       "\n",
       "    .dataframe tbody tr th {\n",
       "        vertical-align: top;\n",
       "    }\n",
       "\n",
       "    .dataframe thead th {\n",
       "        text-align: right;\n",
       "    }\n",
       "</style>\n",
       "<table border=\"1\" class=\"dataframe\">\n",
       "  <thead>\n",
       "    <tr style=\"text-align: right;\">\n",
       "      <th></th>\n",
       "      <th>Country</th>\n",
       "      <th>Region</th>\n",
       "      <th>Region2</th>\n",
       "      <th>Income</th>\n",
       "    </tr>\n",
       "  </thead>\n",
       "  <tbody>\n",
       "  </tbody>\n",
       "</table>\n",
       "</div>"
      ],
      "text/plain": [
       "Empty DataFrame\n",
       "Columns: [Country, Region, Region2, Income]\n",
       "Index: []"
      ]
     },
     "execution_count": 110,
     "metadata": {},
     "output_type": "execute_result"
    }
   ],
   "source": [
    "categorial_features = df.select_dtypes(exclude=[np.number])\n",
    "categorial_features.head(0)"
   ]
  },
  {
   "cell_type": "markdown",
   "metadata": {},
   "source": [
    "Категориальные переменные"
   ]
  },
  {
   "cell_type": "markdown",
   "metadata": {},
   "source": [
    "### Распределение регионов по кластерам"
   ]
  },
  {
   "cell_type": "code",
   "execution_count": 111,
   "metadata": {},
   "outputs": [
    {
     "data": {
      "image/png": "[encoded data removed]",
      "text/plain": [
       "<Figure size 640x480 with 2 Axes>"
      ]
     },
     "metadata": {},
     "output_type": "display_data"
    }
   ],
   "source": [
    "df['cluster'] = taken_metrics_scaled['cluster_labels']\n",
    "region_countries_cluster = pd.crosstab(df['Region'], df['cluster'])\n",
    "plt.figure()\n",
    "sns.heatmap(region_countries_cluster, annot=True, cmap='Blues')\n",
    "plt.title('Распределение регионов по кластерам')\n",
    "plt.show()"
   ]
  },
  {
   "cell_type": "markdown",
   "metadata": {},
   "source": [
    "Видим, что в результате распределения основная масса бедных стран (кластер 1) в Африке и Латинской Америке. А вот масса богатых и развитых стран (кластер 2) в Европе, Восточной Азии, Среднем Востоке и Латинской Америке. Как и предполагалось("
   ]
  },
  {
   "cell_type": "markdown",
   "metadata": {},
   "source": [
    "### Распределение стран-членов ОЭСР по кластерам"
   ]
  },
  {
   "cell_type": "code",
   "execution_count": 112,
   "metadata": {},
   "outputs": [
    {
     "data": {
      "image/png": "[encoded data removed]",
      "text/plain": [
       "<Figure size 640x480 with 2 Axes>"
      ]
     },
     "metadata": {},
     "output_type": "display_data"
    }
   ],
   "source": [
    "oesr_countries_cluster = pd.crosstab(df['OECD members'] == 1, df['cluster'])\n",
    "plt.figure()\n",
    "sns.heatmap(oesr_countries_cluster, annot=True, cmap='Reds')\n",
    "plt.title('Распределение стран-членов ОЭСР по кластерам')\n",
    "plt.show()"
   ]
  },
  {
   "cell_type": "markdown",
   "metadata": {},
   "source": [
    "Видим, что нет ни одной бедной страны в ОЭСР. Все страны, находящиеся в там - богатые. Однако не в ОЭСР есть и развитые страны, и не очень развитые. Вроде нет ничего неожиданного."
   ]
  },
  {
   "cell_type": "markdown",
   "metadata": {},
   "source": [
    "### Распределение стран по ВВП по кластерам"
   ]
  },
  {
   "cell_type": "code",
   "execution_count": 113,
   "metadata": {},
   "outputs": [
    {
     "data": {
      "image/png": "[encoded data removed]",
      "text/plain": [
       "<Figure size 640x480 with 2 Axes>"
      ]
     },
     "metadata": {},
     "output_type": "display_data"
    }
   ],
   "source": [
    "income_countries_cluster = pd.crosstab(df['Income'], df['cluster'])\n",
    "plt.figure()\n",
    "sns.heatmap(income_countries_cluster, annot=True, cmap='Greens')\n",
    "plt.title('Распределение стран по ВВП по кластерам')\n",
    "plt.show()"
   ]
  },
  {
   "cell_type": "markdown",
   "metadata": {},
   "source": [
    "Как ни странно, но страны \"третьего мира\" в основном скорее где-то посередине, хотя и у них есть бедные страны. А вот в развитых странах все понятно - у них средне-высокий ВВП (Income), причем богатых стран более чем половина всех таких стран."
   ]
  },
  {
   "cell_type": "markdown",
   "metadata": {},
   "source": [
    "4. Почему получилась именно такая кластерная структура? Полученные результаты соответствуют вашем изначальным предположениям или оказались неожиданными?"
   ]
  },
  {
   "cell_type": "markdown",
   "metadata": {},
   "source": [
    "#### Вывод\n",
    "Кластерная структура получилась такой, потому что в выборке больше развитых стран, чем бедных. Между ними не было корреляции и данные были корректными, поэтому кластеры получились в целом довольно логичными по распределению.\n",
    "\n",
    "Почти все результаты соответствовали ожиданиям, кроме последнего (распределение ВВП)."
   ]
  },
  {
   "cell_type": "markdown",
   "metadata": {},
   "source": [
    "### Комментарии к заданию и принципам его оценивания:\n",
    "\n",
    " - Все пункты задания должны сопровождаться _выполненным_ фрагментом кода.\n",
    " - Если Вы получили результаты в виде статистических показателей, таблиц или графиков, при этом никак их не прокомментировали и не сформулировали содержательные выводы на их основе, то работа оценивается в 0 баллов, в этом случае анализ данных не проведён.\n",
    " - Если Вы полностью выполнили это задание, то получаете за него 8 баллов (отлично). Для получения более высокой оценки нужно выйти за рамки предложенного задания. В случае с текущим заданием это может быть дополнительное самостоятельное изучение других алгоритмов кластеризации и их применение для анализа данных, или развернутое и глубокое исследование имеющихся данных на основе применения всех пройденных на занятиях алгоритмов кластеризации, сравнение результатов и выбор лучшей кластерной модели с объяснением своего выбора.\n",
    " - В этом задании четыре пункта. Первый весит 10%, второй - 50%, третий - 30%, четвертый - 10%.\n",
    " - Задание можно выполнять индивидуально или в группе из 2 человек, критерии оценивания при этом не меняются.\n",
    " - Если задание выполняется вдвоем, то в Smart LMS работу загружает только один из студентов.\n",
    " - В названии загружаемого в Smart LMS файла нужно указать фамилию(ии) автора(ов) работы."
   ]
  },
  {
   "cell_type": "markdown",
   "metadata": {},
   "source": [
    "### Этот файл нужно сохранить как Jupyter Notebook (.ipynb) и загрузить в Smart LMS до 23:55 28 октября.\n",
    "\n",
    "- При сдаче работы до 23:55 29 октября вычитается 1 балл из итоговой оценки. \n",
    "- При сдаче работы до 23:55 30 октября вычитаются 2 балла из итоговой оценки. \n",
    "- После **23:55 30 октября** работа не принимается."
   ]
  }
 ],
 "metadata": {
  "kernelspec": {
   "display_name": "base",
   "language": "python",
   "name": "python3"
  },
  "language_info": {
   "codemirror_mode": {
    "name": "ipython",
    "version": 3
   },
   "file_extension": ".py",
   "mimetype": "text/x-python",
   "name": "python",
   "nbconvert_exporter": "python",
   "pygments_lexer": "ipython3",
   "version": "3.13.5"
  }
 },
 "nbformat": 4,
 "nbformat_minor": 2
}
